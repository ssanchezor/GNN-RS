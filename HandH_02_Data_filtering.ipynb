{
 "cells": [
  {
   "cell_type": "markdown",
   "id": "9179cbc4",
   "metadata": {},
   "source": [
    "### Data filtering - V 20220520\n",
    "\n",
    "This notebook filters H&H.\n",
    "\n",
    "Filter by number transactions per customers, number minimum number of article instances and max number of customers\n",
    "\n",
    "Ouptut is\n",
    "- transactions_ddup_datef_artif_custf.csv \n",
    "- transactions_ddup_datef_artif_custf_custr.csv (same as previous but with a max number of customers)\n",
    "\n",
    "Asumes data in data directory\n",
    "    "
   ]
  },
  {
   "cell_type": "code",
   "execution_count": 1,
   "id": "25f0e503",
   "metadata": {},
   "outputs": [],
   "source": [
    "import numpy as np # linear algebra\n",
    "import pandas as pd # data processing, CSV file I/O (e.g. pd.read_csv)"
   ]
  },
  {
   "cell_type": "code",
   "execution_count": 2,
   "id": "3dd7e9f7",
   "metadata": {},
   "outputs": [],
   "source": [
    "articles = pd.read_csv(\"./data/articles.csv\")\n",
    "customers = pd.read_csv(\"./data/customers.csv\")\n",
    "transactions = pd.read_csv(\"./data/transactions_train.csv\")"
   ]
  },
  {
   "cell_type": "markdown",
   "id": "51c60276",
   "metadata": {},
   "source": [
    "Displays basic data"
   ]
  },
  {
   "cell_type": "code",
   "execution_count": 3,
   "id": "bbc2f328",
   "metadata": {},
   "outputs": [
    {
     "name": "stdout",
     "output_type": "stream",
     "text": [
      "Number articles ->  105542\n",
      "Number customers ->  1371980\n",
      "Number transaction ->  31788324\n"
     ]
    }
   ],
   "source": [
    "print (\"Number articles -> \", len(articles))\n",
    "print (\"Number customers -> \", len(customers))\n",
    "print (\"Number transaction -> \", len(transactions))"
   ]
  },
  {
   "cell_type": "code",
   "execution_count": 4,
   "id": "20a96c21",
   "metadata": {},
   "outputs": [
    {
     "data": {
      "text/html": [
       "<div>\n",
       "<style scoped>\n",
       "    .dataframe tbody tr th:only-of-type {\n",
       "        vertical-align: middle;\n",
       "    }\n",
       "\n",
       "    .dataframe tbody tr th {\n",
       "        vertical-align: top;\n",
       "    }\n",
       "\n",
       "    .dataframe thead th {\n",
       "        text-align: right;\n",
       "    }\n",
       "</style>\n",
       "<table border=\"1\" class=\"dataframe\">\n",
       "  <thead>\n",
       "    <tr style=\"text-align: right;\">\n",
       "      <th></th>\n",
       "      <th>t_dat</th>\n",
       "      <th>customer_id</th>\n",
       "      <th>article_id</th>\n",
       "      <th>price</th>\n",
       "      <th>sales_channel_id</th>\n",
       "    </tr>\n",
       "  </thead>\n",
       "  <tbody>\n",
       "    <tr>\n",
       "      <th>0</th>\n",
       "      <td>2018-09-20</td>\n",
       "      <td>000058a12d5b43e67d225668fa1f8d618c13dc232df0ca...</td>\n",
       "      <td>663713001</td>\n",
       "      <td>0.050831</td>\n",
       "      <td>2</td>\n",
       "    </tr>\n",
       "    <tr>\n",
       "      <th>1</th>\n",
       "      <td>2018-09-20</td>\n",
       "      <td>000058a12d5b43e67d225668fa1f8d618c13dc232df0ca...</td>\n",
       "      <td>541518023</td>\n",
       "      <td>0.030492</td>\n",
       "      <td>2</td>\n",
       "    </tr>\n",
       "    <tr>\n",
       "      <th>2</th>\n",
       "      <td>2018-09-20</td>\n",
       "      <td>00007d2de826758b65a93dd24ce629ed66842531df6699...</td>\n",
       "      <td>505221004</td>\n",
       "      <td>0.015237</td>\n",
       "      <td>2</td>\n",
       "    </tr>\n",
       "    <tr>\n",
       "      <th>3</th>\n",
       "      <td>2018-09-20</td>\n",
       "      <td>00007d2de826758b65a93dd24ce629ed66842531df6699...</td>\n",
       "      <td>685687003</td>\n",
       "      <td>0.016932</td>\n",
       "      <td>2</td>\n",
       "    </tr>\n",
       "    <tr>\n",
       "      <th>4</th>\n",
       "      <td>2018-09-20</td>\n",
       "      <td>00007d2de826758b65a93dd24ce629ed66842531df6699...</td>\n",
       "      <td>685687004</td>\n",
       "      <td>0.016932</td>\n",
       "      <td>2</td>\n",
       "    </tr>\n",
       "  </tbody>\n",
       "</table>\n",
       "</div>"
      ],
      "text/plain": [
       "        t_dat                                        customer_id  article_id  \\\n",
       "0  2018-09-20  000058a12d5b43e67d225668fa1f8d618c13dc232df0ca...   663713001   \n",
       "1  2018-09-20  000058a12d5b43e67d225668fa1f8d618c13dc232df0ca...   541518023   \n",
       "2  2018-09-20  00007d2de826758b65a93dd24ce629ed66842531df6699...   505221004   \n",
       "3  2018-09-20  00007d2de826758b65a93dd24ce629ed66842531df6699...   685687003   \n",
       "4  2018-09-20  00007d2de826758b65a93dd24ce629ed66842531df6699...   685687004   \n",
       "\n",
       "      price  sales_channel_id  \n",
       "0  0.050831                 2  \n",
       "1  0.030492                 2  \n",
       "2  0.015237                 2  \n",
       "3  0.016932                 2  \n",
       "4  0.016932                 2  "
      ]
     },
     "execution_count": 4,
     "metadata": {},
     "output_type": "execute_result"
    }
   ],
   "source": [
    "transactions.head()"
   ]
  },
  {
   "cell_type": "markdown",
   "id": "5a2ed9f3",
   "metadata": {},
   "source": [
    "Before any filter remove duplicate records (if an item is bought multiples times in a purchase, records are duplicate)"
   ]
  },
  {
   "cell_type": "code",
   "execution_count": 5,
   "id": "00a08af3",
   "metadata": {},
   "outputs": [],
   "source": [
    "transactions_ddup=transactions.drop_duplicates()"
   ]
  },
  {
   "cell_type": "code",
   "execution_count": 6,
   "id": "c8312eb3",
   "metadata": {},
   "outputs": [
    {
     "name": "stdout",
     "output_type": "stream",
     "text": [
      "Duplicate records removed ->  2974905\n"
     ]
    }
   ],
   "source": [
    "print (\"Duplicate records removed -> \" ,len(transactions)-len(transactions_ddup))"
   ]
  },
  {
   "cell_type": "markdown",
   "id": "d9cc64e9",
   "metadata": {},
   "source": [
    "### **Time span**"
   ]
  },
  {
   "cell_type": "markdown",
   "id": "6c5a0e00",
   "metadata": {},
   "source": [
    "Temporal range"
   ]
  },
  {
   "cell_type": "code",
   "execution_count": 7,
   "id": "984bda08",
   "metadata": {},
   "outputs": [
    {
     "data": {
      "text/html": [
       "<div>\n",
       "<style scoped>\n",
       "    .dataframe tbody tr th:only-of-type {\n",
       "        vertical-align: middle;\n",
       "    }\n",
       "\n",
       "    .dataframe tbody tr th {\n",
       "        vertical-align: top;\n",
       "    }\n",
       "\n",
       "    .dataframe thead th {\n",
       "        text-align: right;\n",
       "    }\n",
       "</style>\n",
       "<table border=\"1\" class=\"dataframe\">\n",
       "  <thead>\n",
       "    <tr style=\"text-align: right;\">\n",
       "      <th></th>\n",
       "      <th>t_dat</th>\n",
       "    </tr>\n",
       "  </thead>\n",
       "  <tbody>\n",
       "    <tr>\n",
       "      <th>min</th>\n",
       "      <td>2018-09-20</td>\n",
       "    </tr>\n",
       "    <tr>\n",
       "      <th>max</th>\n",
       "      <td>2020-09-22</td>\n",
       "    </tr>\n",
       "  </tbody>\n",
       "</table>\n",
       "</div>"
      ],
      "text/plain": [
       "          t_dat\n",
       "min  2018-09-20\n",
       "max  2020-09-22"
      ]
     },
     "execution_count": 7,
     "metadata": {},
     "output_type": "execute_result"
    }
   ],
   "source": [
    "transactions_ddup.agg({\n",
    "    \"t_dat\" :[\"min\",\"max\"]\n",
    "})"
   ]
  },
  {
   "cell_type": "markdown",
   "id": "9cf20597",
   "metadata": {},
   "source": [
    "## Data filtering\n",
    "\n",
    "In the following variables we specify\n",
    "- `ini_data` (initial data in format aaaa-mm-dd)\n",
    "- `min_trans_per_customer` (if a customer has less than this number of transactions, its transactions will be removed)\n",
    "- `min_trans_per_article` (if an article has less than this number of transactions, its transactions will be removed)\n"
   ]
  },
  {
   "cell_type": "code",
   "execution_count": 8,
   "id": "29702571",
   "metadata": {},
   "outputs": [],
   "source": [
    "ini_data= \"2019-09-22\"\n",
    "min_trans_per_article=5\n",
    "min_trans_per_customer=20\n"
   ]
  },
  {
   "cell_type": "code",
   "execution_count": null,
   "id": "50fd295d",
   "metadata": {},
   "outputs": [],
   "source": []
  },
  {
   "cell_type": "markdown",
   "id": "26be0503",
   "metadata": {},
   "source": [
    "### Date filtering"
   ]
  },
  {
   "cell_type": "code",
   "execution_count": 9,
   "id": "d1fe910a",
   "metadata": {},
   "outputs": [
    {
     "name": "stdout",
     "output_type": "stream",
     "text": [
      "Initial data ->  2019-09-22\n",
      "Number transactions ->  13564075\n"
     ]
    },
    {
     "data": {
      "text/html": [
       "<div>\n",
       "<style scoped>\n",
       "    .dataframe tbody tr th:only-of-type {\n",
       "        vertical-align: middle;\n",
       "    }\n",
       "\n",
       "    .dataframe tbody tr th {\n",
       "        vertical-align: top;\n",
       "    }\n",
       "\n",
       "    .dataframe thead th {\n",
       "        text-align: right;\n",
       "    }\n",
       "</style>\n",
       "<table border=\"1\" class=\"dataframe\">\n",
       "  <thead>\n",
       "    <tr style=\"text-align: right;\">\n",
       "      <th></th>\n",
       "      <th>t_dat</th>\n",
       "      <th>customer_id</th>\n",
       "      <th>article_id</th>\n",
       "      <th>price</th>\n",
       "      <th>sales_channel_id</th>\n",
       "    </tr>\n",
       "  </thead>\n",
       "  <tbody>\n",
       "    <tr>\n",
       "      <th>16855951</th>\n",
       "      <td>2019-09-22</td>\n",
       "      <td>000fb6e772c5d0023892065e659963da90b1866035558e...</td>\n",
       "      <td>695632095</td>\n",
       "      <td>0.033881</td>\n",
       "      <td>2</td>\n",
       "    </tr>\n",
       "    <tr>\n",
       "      <th>16855952</th>\n",
       "      <td>2019-09-22</td>\n",
       "      <td>0014b19aa47d031d859ae8d8f776524cdd35349db69d64...</td>\n",
       "      <td>787648001</td>\n",
       "      <td>0.016932</td>\n",
       "      <td>2</td>\n",
       "    </tr>\n",
       "    <tr>\n",
       "      <th>16855953</th>\n",
       "      <td>2019-09-22</td>\n",
       "      <td>0023f9e96ae935c11bc2c950f317b73facea404dde95a3...</td>\n",
       "      <td>767496001</td>\n",
       "      <td>0.015237</td>\n",
       "      <td>1</td>\n",
       "    </tr>\n",
       "    <tr>\n",
       "      <th>16855954</th>\n",
       "      <td>2019-09-22</td>\n",
       "      <td>0023f9e96ae935c11bc2c950f317b73facea404dde95a3...</td>\n",
       "      <td>766826002</td>\n",
       "      <td>0.050831</td>\n",
       "      <td>1</td>\n",
       "    </tr>\n",
       "    <tr>\n",
       "      <th>16855955</th>\n",
       "      <td>2019-09-22</td>\n",
       "      <td>0023f9e96ae935c11bc2c950f317b73facea404dde95a3...</td>\n",
       "      <td>655710010</td>\n",
       "      <td>0.050831</td>\n",
       "      <td>1</td>\n",
       "    </tr>\n",
       "  </tbody>\n",
       "</table>\n",
       "</div>"
      ],
      "text/plain": [
       "               t_dat                                        customer_id  \\\n",
       "16855951  2019-09-22  000fb6e772c5d0023892065e659963da90b1866035558e...   \n",
       "16855952  2019-09-22  0014b19aa47d031d859ae8d8f776524cdd35349db69d64...   \n",
       "16855953  2019-09-22  0023f9e96ae935c11bc2c950f317b73facea404dde95a3...   \n",
       "16855954  2019-09-22  0023f9e96ae935c11bc2c950f317b73facea404dde95a3...   \n",
       "16855955  2019-09-22  0023f9e96ae935c11bc2c950f317b73facea404dde95a3...   \n",
       "\n",
       "          article_id     price  sales_channel_id  \n",
       "16855951   695632095  0.033881                 2  \n",
       "16855952   787648001  0.016932                 2  \n",
       "16855953   767496001  0.015237                 1  \n",
       "16855954   766826002  0.050831                 1  \n",
       "16855955   655710010  0.050831                 1  "
      ]
     },
     "execution_count": 9,
     "metadata": {},
     "output_type": "execute_result"
    }
   ],
   "source": [
    "print (\"Initial data -> \", ini_data)\n",
    "df_mask=transactions_ddup[\"t_dat\"]>=ini_data # mask\n",
    "transactions_ddup_datef=transactions_ddup[df_mask] # apply mask\n",
    "print (\"Number transactions -> \", len(transactions_ddup_datef))\n",
    "transactions_ddup_datef.head()"
   ]
  },
  {
   "cell_type": "markdown",
   "id": "c80c66f3",
   "metadata": {},
   "source": [
    "### Article and customer filtering\n",
    "\n",
    "Filtering is based in the number a customer or article comes up in 'customer_id' and 'article_id'. We create a panda serie with the number transactions of identical customers/articles. Then we use the panda serie to select the records in the unfiltered version of the file.\n",
    "\n",
    "Ref -> https://stackoverflow.com/questions/48628417/how-to-select-rows-in-pandas-dataframe-where-value-appears-more-than-once\n"
   ]
  },
  {
   "cell_type": "markdown",
   "id": "a410a966",
   "metadata": {},
   "source": [
    "**Article filtering**\n",
    "\n",
    "Starting poing is `transactions_ddup_datef` (deduplicate and with data filter)"
   ]
  },
  {
   "cell_type": "code",
   "execution_count": 10,
   "id": "c3e2c941",
   "metadata": {},
   "outputs": [],
   "source": [
    "v_art=transactions_ddup_datef.article_id.value_counts() # counts number records for each article_id"
   ]
  },
  {
   "cell_type": "code",
   "execution_count": 11,
   "id": "bbe0676b",
   "metadata": {},
   "outputs": [
    {
     "name": "stdout",
     "output_type": "stream",
     "text": [
      "Article data \n"
     ]
    },
    {
     "data": {
      "text/plain": [
       "706016001    25579\n",
       "720125001    15608\n",
       "706016002    15062\n",
       "372860001    14201\n",
       "759871002    13926\n",
       "             ...  \n",
       "717664004        1\n",
       "685471001        1\n",
       "651330003        1\n",
       "617465001        1\n",
       "533261032        1\n",
       "Name: article_id, Length: 70976, dtype: int64"
      ]
     },
     "execution_count": 11,
     "metadata": {},
     "output_type": "execute_result"
    }
   ],
   "source": [
    "print (\"Article data \")\n",
    "v_art"
   ]
  },
  {
   "cell_type": "code",
   "execution_count": 12,
   "id": "f3a708e9",
   "metadata": {},
   "outputs": [
    {
     "data": {
      "text/plain": [
       "count    70976.000000\n",
       "mean       191.107910\n",
       "std        501.433742\n",
       "min          1.000000\n",
       "25%          5.000000\n",
       "50%         27.000000\n",
       "75%        160.000000\n",
       "max      25579.000000\n",
       "Name: article_id, dtype: float64"
      ]
     },
     "execution_count": 12,
     "metadata": {},
     "output_type": "execute_result"
    }
   ],
   "source": [
    "v_art.describe()"
   ]
  },
  {
   "cell_type": "markdown",
   "id": "bd93a886",
   "metadata": {},
   "source": [
    " "
   ]
  },
  {
   "cell_type": "code",
   "execution_count": 13,
   "id": "0f8a9443",
   "metadata": {},
   "outputs": [],
   "source": [
    "# select articles where v_art.gt(min_trans_per_article) is true\n",
    "transactions_ddup_datef_artif= \\\n",
    "   transactions_ddup_datef[transactions_ddup_datef.article_id.isin(v_art.index[v_art.gt(min_trans_per_article-1)])]"
   ]
  },
  {
   "cell_type": "code",
   "execution_count": 14,
   "id": "75e3e254",
   "metadata": {},
   "outputs": [],
   "source": [
    "# debug \n",
    "#\n",
    "# transactions_ddup_datef_artif.describe()"
   ]
  },
  {
   "cell_type": "code",
   "execution_count": 15,
   "id": "f1a9c891",
   "metadata": {},
   "outputs": [],
   "source": [
    "# debug \n",
    "#\n",
    "# apply filter to verify that indeed the min number of transactions x customer is correct\n",
    "# v_debug=transactions_ddup_datef_artif.article_id.value_counts() # counts number records for each article_id\n",
    "#v_debug.describe()"
   ]
  },
  {
   "cell_type": "markdown",
   "id": "1f225d84",
   "metadata": {},
   "source": [
    "**Customer filtering**\n",
    "\n",
    "Starting poing is `transactions_ddup_datef_datef` (deduplicate and with data filter and article filter)"
   ]
  },
  {
   "cell_type": "code",
   "execution_count": 16,
   "id": "927bc614",
   "metadata": {},
   "outputs": [],
   "source": [
    "v_cust=transactions_ddup_datef_artif.customer_id.value_counts() # counts number records for each customer_id"
   ]
  },
  {
   "cell_type": "code",
   "execution_count": 17,
   "id": "7ba0b04b",
   "metadata": {},
   "outputs": [
    {
     "name": "stdout",
     "output_type": "stream",
     "text": [
      "Customer data \n"
     ]
    },
    {
     "data": {
      "text/plain": [
       "be1981ab818cf4ef6765b2ecaea7a2cbf14ccd6e8a7ee985513d9e8e53c6d91b    862\n",
       "a65f77281a528bf5c1e9f270141d601d116e1df33bf9df512f495ee06647a9cc    742\n",
       "b637a3e7d8b0caa947aaefd609b8d84a9ee962cf0a52a51bac507ffc2bf1b741    728\n",
       "b4db5e5259234574edfff958e170fe3a5e13b6f146752ca066abca3c156acc71    727\n",
       "55d15396193dfd45836af3a6269a079efea339e875eff42cc0c228b002548a9d    627\n",
       "                                                                   ... \n",
       "2880444cb4592993c95e87c176676981ae9aad51124a494724cbf9a65e370fdb      1\n",
       "29a91769e5d3cbd0ef19a16d93760d8dfce46a4ba96d81acedb8fffb88321c6a      1\n",
       "29ae0df422f197bd2bdd50e262541a20da5afeb70f731f28c5aba9a9ca82da5d      1\n",
       "29c37662687306a9b86316f41eded48a1c2dc5e20319a0d38a884b930982eb29      1\n",
       "ff6f55a51af284b71dcd264396b299e548f968c1769e71148763bd4fce26b40d      1\n",
       "Name: customer_id, Length: 994820, dtype: int64"
      ]
     },
     "execution_count": 17,
     "metadata": {},
     "output_type": "execute_result"
    }
   ],
   "source": [
    "print (\"Customer data \")\n",
    "v_cust"
   ]
  },
  {
   "cell_type": "code",
   "execution_count": 18,
   "id": "c64eb3ec",
   "metadata": {},
   "outputs": [
    {
     "data": {
      "text/plain": [
       "count    994820.000000\n",
       "mean         13.600082\n",
       "std          19.343804\n",
       "min           1.000000\n",
       "25%           3.000000\n",
       "50%           7.000000\n",
       "75%          17.000000\n",
       "max         862.000000\n",
       "Name: customer_id, dtype: float64"
      ]
     },
     "execution_count": 18,
     "metadata": {},
     "output_type": "execute_result"
    }
   ],
   "source": [
    "v_cust.describe()"
   ]
  },
  {
   "cell_type": "code",
   "execution_count": 19,
   "id": "154b472f",
   "metadata": {},
   "outputs": [],
   "source": [
    "# select articles where v_cust.gt(min_trans_per_customer) is true\n",
    "transactions_ddup_datef_artif_custf= \\\n",
    "   transactions_ddup_datef_artif[transactions_ddup_datef_artif.customer_id.isin(v_cust.index[v_cust.gt(min_trans_per_customer-1)])]"
   ]
  },
  {
   "cell_type": "code",
   "execution_count": 20,
   "id": "6292dbce",
   "metadata": {},
   "outputs": [],
   "source": [
    "# debug \n",
    "#\n",
    "#transactions_ddup_datef_artif_custf.describe()\n"
   ]
  },
  {
   "cell_type": "code",
   "execution_count": 21,
   "id": "df2a7dcb",
   "metadata": {},
   "outputs": [],
   "source": [
    "# debug \n",
    "#\n",
    "# apply filter to verify that indeed the min number of transactions x customer is correct\n",
    "#v_debug=transactions_ddup_datef_artif_custf.customer_id.value_counts() # counts number records for each customer_id\n",
    "#v_debug.describe()"
   ]
  },
  {
   "cell_type": "code",
   "execution_count": 22,
   "id": "b4ca77b8",
   "metadata": {},
   "outputs": [
    {
     "data": {
      "text/html": [
       "<div>\n",
       "<style scoped>\n",
       "    .dataframe tbody tr th:only-of-type {\n",
       "        vertical-align: middle;\n",
       "    }\n",
       "\n",
       "    .dataframe tbody tr th {\n",
       "        vertical-align: top;\n",
       "    }\n",
       "\n",
       "    .dataframe thead th {\n",
       "        text-align: right;\n",
       "    }\n",
       "</style>\n",
       "<table border=\"1\" class=\"dataframe\">\n",
       "  <thead>\n",
       "    <tr style=\"text-align: right;\">\n",
       "      <th></th>\n",
       "      <th>article_id</th>\n",
       "      <th>price</th>\n",
       "      <th>sales_channel_id</th>\n",
       "    </tr>\n",
       "  </thead>\n",
       "  <tbody>\n",
       "    <tr>\n",
       "      <th>count</th>\n",
       "      <td>8.470046e+06</td>\n",
       "      <td>8.470046e+06</td>\n",
       "      <td>8.470046e+06</td>\n",
       "    </tr>\n",
       "    <tr>\n",
       "      <th>mean</th>\n",
       "      <td>7.590754e+08</td>\n",
       "      <td>2.829068e-02</td>\n",
       "      <td>1.735564e+00</td>\n",
       "    </tr>\n",
       "    <tr>\n",
       "      <th>std</th>\n",
       "      <td>1.253690e+08</td>\n",
       "      <td>1.908699e-02</td>\n",
       "      <td>4.410324e-01</td>\n",
       "    </tr>\n",
       "    <tr>\n",
       "      <th>min</th>\n",
       "      <td>1.087750e+08</td>\n",
       "      <td>3.389831e-05</td>\n",
       "      <td>1.000000e+00</td>\n",
       "    </tr>\n",
       "    <tr>\n",
       "      <th>25%</th>\n",
       "      <td>7.153430e+08</td>\n",
       "      <td>1.661017e-02</td>\n",
       "      <td>1.000000e+00</td>\n",
       "    </tr>\n",
       "    <tr>\n",
       "      <th>50%</th>\n",
       "      <td>7.924690e+08</td>\n",
       "      <td>2.540678e-02</td>\n",
       "      <td>2.000000e+00</td>\n",
       "    </tr>\n",
       "    <tr>\n",
       "      <th>75%</th>\n",
       "      <td>8.412280e+08</td>\n",
       "      <td>3.388136e-02</td>\n",
       "      <td>2.000000e+00</td>\n",
       "    </tr>\n",
       "    <tr>\n",
       "      <th>max</th>\n",
       "      <td>9.562170e+08</td>\n",
       "      <td>5.067797e-01</td>\n",
       "      <td>2.000000e+00</td>\n",
       "    </tr>\n",
       "  </tbody>\n",
       "</table>\n",
       "</div>"
      ],
      "text/plain": [
       "         article_id         price  sales_channel_id\n",
       "count  8.470046e+06  8.470046e+06      8.470046e+06\n",
       "mean   7.590754e+08  2.829068e-02      1.735564e+00\n",
       "std    1.253690e+08  1.908699e-02      4.410324e-01\n",
       "min    1.087750e+08  3.389831e-05      1.000000e+00\n",
       "25%    7.153430e+08  1.661017e-02      1.000000e+00\n",
       "50%    7.924690e+08  2.540678e-02      2.000000e+00\n",
       "75%    8.412280e+08  3.388136e-02      2.000000e+00\n",
       "max    9.562170e+08  5.067797e-01      2.000000e+00"
      ]
     },
     "execution_count": 22,
     "metadata": {},
     "output_type": "execute_result"
    }
   ],
   "source": [
    "transactions_ddup_datef_artif_custf.describe()"
   ]
  },
  {
   "cell_type": "markdown",
   "id": "e971ae26",
   "metadata": {},
   "source": [
    "**Custormer reduction**\n",
    "\n",
    "As the numer of records is too large we will use a subset with less records\n"
   ]
  },
  {
   "cell_type": "code",
   "execution_count": 23,
   "id": "905187f1",
   "metadata": {},
   "outputs": [
    {
     "name": "stdout",
     "output_type": "stream",
     "text": [
      "Current number of transactions - 8470046\n"
     ]
    }
   ],
   "source": [
    "print (\"Current number of transactions -\", len(transactions_ddup_datef_artif_custf) )"
   ]
  },
  {
   "cell_type": "markdown",
   "id": "8815f51b",
   "metadata": {},
   "source": [
    "Auxiliar dataserie with customer data"
   ]
  },
  {
   "cell_type": "code",
   "execution_count": 24,
   "id": "a60ca2d9",
   "metadata": {},
   "outputs": [],
   "source": [
    "v_aux=transactions_ddup_datef_artif_custf.customer_id.value_counts() "
   ]
  },
  {
   "cell_type": "code",
   "execution_count": 25,
   "id": "99fa88d9",
   "metadata": {},
   "outputs": [
    {
     "data": {
      "text/plain": [
       "count    207491.000000\n",
       "mean         40.821269\n",
       "std          27.631893\n",
       "min          20.000000\n",
       "25%          24.000000\n",
       "50%          32.000000\n",
       "75%          47.000000\n",
       "max         862.000000\n",
       "Name: customer_id, dtype: float64"
      ]
     },
     "execution_count": 25,
     "metadata": {},
     "output_type": "execute_result"
    }
   ],
   "source": [
    "v_aux.describe()"
   ]
  },
  {
   "cell_type": "code",
   "execution_count": 26,
   "id": "52889528",
   "metadata": {},
   "outputs": [
    {
     "data": {
      "text/plain": [
       "be1981ab818cf4ef6765b2ecaea7a2cbf14ccd6e8a7ee985513d9e8e53c6d91b    862\n",
       "a65f77281a528bf5c1e9f270141d601d116e1df33bf9df512f495ee06647a9cc    742\n",
       "b637a3e7d8b0caa947aaefd609b8d84a9ee962cf0a52a51bac507ffc2bf1b741    728\n",
       "b4db5e5259234574edfff958e170fe3a5e13b6f146752ca066abca3c156acc71    727\n",
       "55d15396193dfd45836af3a6269a079efea339e875eff42cc0c228b002548a9d    627\n",
       "                                                                   ... \n",
       "571bad7b761931d65a741826735c94d533b39fa71c7ba70fcc9b0253f87c2003     20\n",
       "7a914aebab66fc30cb0288615558b9bb8e878239f278aa81e327090efe09b0ae     20\n",
       "7a9310866dcc7d3461857cc903532708337c49e28aa7d9d109508ed3a9e9fb04     20\n",
       "7a9d1b6641a3b7a35fb2cbb9c908d579ac5a552e0f81b6b949770645caedfa67     20\n",
       "c878c66b040e01adfec5a334a7afde32913eff32db7b83b6ed97db22e7ff05f6     20\n",
       "Name: customer_id, Length: 207491, dtype: int64"
      ]
     },
     "execution_count": 26,
     "metadata": {},
     "output_type": "execute_result"
    }
   ],
   "source": [
    "v_aux"
   ]
  },
  {
   "cell_type": "code",
   "execution_count": null,
   "id": "01366e40",
   "metadata": {},
   "outputs": [],
   "source": []
  },
  {
   "cell_type": "markdown",
   "id": "1728549c",
   "metadata": {},
   "source": [
    "We will suffle data"
   ]
  },
  {
   "cell_type": "code",
   "execution_count": 27,
   "id": "efffa5b8",
   "metadata": {},
   "outputs": [
    {
     "name": "stdout",
     "output_type": "stream",
     "text": [
      "Number of customers ->  207491\n"
     ]
    }
   ],
   "source": [
    "from sklearn.utils import shuffle\n",
    "v_aux= shuffle(v_aux)\n",
    "print (\"Number of customers -> \", len(v_aux))"
   ]
  },
  {
   "cell_type": "markdown",
   "id": "bf6183de",
   "metadata": {},
   "source": [
    "We set here the number total cust"
   ]
  },
  {
   "cell_type": "code",
   "execution_count": 28,
   "id": "f781bc28",
   "metadata": {},
   "outputs": [],
   "source": [
    "tot_cust=10000\n",
    "v_aux=v_aux[0:tot_cust]"
   ]
  },
  {
   "cell_type": "code",
   "execution_count": 29,
   "id": "f46fbd1e",
   "metadata": {},
   "outputs": [
    {
     "name": "stdout",
     "output_type": "stream",
     "text": [
      "Number of selected random customers ->  10000\n"
     ]
    }
   ],
   "source": [
    "print (\"Number of selected random customers -> \", len (v_aux))"
   ]
  },
  {
   "cell_type": "code",
   "execution_count": 30,
   "id": "be0f7f11",
   "metadata": {},
   "outputs": [],
   "source": [
    "# debug   v_aux.index is the list of selected customers\n",
    "# v_aux.index"
   ]
  },
  {
   "cell_type": "code",
   "execution_count": 31,
   "id": "46bf4cfb",
   "metadata": {},
   "outputs": [],
   "source": [
    "# custr -> customer reduction we filter transactions_ddup_datef_artif_custf\n",
    "# with v_aux.index to get our transactions_ddup_datef_artif_custf_custr\n",
    "transactions_ddup_datef_artif_custf_custr= \\\n",
    "   transactions_ddup_datef_artif_custf[ \\\n",
    "        transactions_ddup_datef_artif_custf.customer_id.isin \\\n",
    "        (v_aux.index)]"
   ]
  },
  {
   "cell_type": "code",
   "execution_count": 32,
   "id": "b029e619",
   "metadata": {},
   "outputs": [
    {
     "name": "stdout",
     "output_type": "stream",
     "text": [
      "Transactions with data filter, customer filter and customer red -> 407717\n"
     ]
    }
   ],
   "source": [
    "print (\"Transactions with data filter, customer filter and customer red ->\" , \\\n",
    "      len(transactions_ddup_datef_artif_custf_custr))"
   ]
  },
  {
   "cell_type": "code",
   "execution_count": 33,
   "id": "eeeec60a",
   "metadata": {},
   "outputs": [
    {
     "data": {
      "text/html": [
       "<div>\n",
       "<style scoped>\n",
       "    .dataframe tbody tr th:only-of-type {\n",
       "        vertical-align: middle;\n",
       "    }\n",
       "\n",
       "    .dataframe tbody tr th {\n",
       "        vertical-align: top;\n",
       "    }\n",
       "\n",
       "    .dataframe thead th {\n",
       "        text-align: right;\n",
       "    }\n",
       "</style>\n",
       "<table border=\"1\" class=\"dataframe\">\n",
       "  <thead>\n",
       "    <tr style=\"text-align: right;\">\n",
       "      <th></th>\n",
       "      <th>article_id</th>\n",
       "      <th>price</th>\n",
       "      <th>sales_channel_id</th>\n",
       "    </tr>\n",
       "  </thead>\n",
       "  <tbody>\n",
       "    <tr>\n",
       "      <th>count</th>\n",
       "      <td>4.077170e+05</td>\n",
       "      <td>407717.000000</td>\n",
       "      <td>407717.000000</td>\n",
       "    </tr>\n",
       "    <tr>\n",
       "      <th>mean</th>\n",
       "      <td>7.589289e+08</td>\n",
       "      <td>0.028292</td>\n",
       "      <td>1.740435</td>\n",
       "    </tr>\n",
       "    <tr>\n",
       "      <th>std</th>\n",
       "      <td>1.250383e+08</td>\n",
       "      <td>0.019092</td>\n",
       "      <td>0.438396</td>\n",
       "    </tr>\n",
       "    <tr>\n",
       "      <th>min</th>\n",
       "      <td>1.087750e+08</td>\n",
       "      <td>0.000288</td>\n",
       "      <td>1.000000</td>\n",
       "    </tr>\n",
       "    <tr>\n",
       "      <th>25%</th>\n",
       "      <td>7.152310e+08</td>\n",
       "      <td>0.016661</td>\n",
       "      <td>1.000000</td>\n",
       "    </tr>\n",
       "    <tr>\n",
       "      <th>50%</th>\n",
       "      <td>7.923010e+08</td>\n",
       "      <td>0.025407</td>\n",
       "      <td>2.000000</td>\n",
       "    </tr>\n",
       "    <tr>\n",
       "      <th>75%</th>\n",
       "      <td>8.406040e+08</td>\n",
       "      <td>0.033881</td>\n",
       "      <td>2.000000</td>\n",
       "    </tr>\n",
       "    <tr>\n",
       "      <th>max</th>\n",
       "      <td>9.529380e+08</td>\n",
       "      <td>0.506780</td>\n",
       "      <td>2.000000</td>\n",
       "    </tr>\n",
       "  </tbody>\n",
       "</table>\n",
       "</div>"
      ],
      "text/plain": [
       "         article_id          price  sales_channel_id\n",
       "count  4.077170e+05  407717.000000     407717.000000\n",
       "mean   7.589289e+08       0.028292          1.740435\n",
       "std    1.250383e+08       0.019092          0.438396\n",
       "min    1.087750e+08       0.000288          1.000000\n",
       "25%    7.152310e+08       0.016661          1.000000\n",
       "50%    7.923010e+08       0.025407          2.000000\n",
       "75%    8.406040e+08       0.033881          2.000000\n",
       "max    9.529380e+08       0.506780          2.000000"
      ]
     },
     "execution_count": 33,
     "metadata": {},
     "output_type": "execute_result"
    }
   ],
   "source": [
    "transactions_ddup_datef_artif_custf_custr.describe()"
   ]
  },
  {
   "cell_type": "code",
   "execution_count": null,
   "id": "f25269b0",
   "metadata": {},
   "outputs": [],
   "source": []
  },
  {
   "cell_type": "code",
   "execution_count": 34,
   "id": "25e8b2f0",
   "metadata": {},
   "outputs": [
    {
     "name": "stdout",
     "output_type": "stream",
     "text": [
      "File name for FULL filtered dataset:\n",
      "./data/transactions_ddup_2019-09-22_nart_5_ncust_20.csv\n",
      "File name for reduced filtered dataset (later defined):\n",
      "./data/transactions_ddup_2019-09-22_nart_5_ncust_20_ncustr_10000.csv\n"
     ]
    }
   ],
   "source": [
    "print (\"File name for FULL filtered dataset:\")\n",
    "file_name=\"./data/transactions_ddup_{0}_nart_{1}_ncust_{2}.csv\".format( \\\n",
    "  ini_data, min_trans_per_article, min_trans_per_customer)\n",
    "print (file_name)\n",
    "print (\"File name for reduced filtered dataset (later defined):\")\n",
    "file_name_red=\"./data/transactions_ddup_{0}_nart_{1}_ncust_{2}_ncustr_{3}.csv\".format( \\\n",
    "   ini_data, min_trans_per_article, min_trans_per_customer, tot_cust)\n",
    "print (file_name_red)"
   ]
  },
  {
   "cell_type": "code",
   "execution_count": 35,
   "id": "21152a31",
   "metadata": {},
   "outputs": [
    {
     "name": "stdout",
     "output_type": "stream",
     "text": [
      "Filter values:\n",
      "Initial data ->  2019-09-22\n",
      "Minimum transactions per article ->  5\n",
      "Minimum transactions per customer ->  20\n",
      "Customer reduction to customer ->  10000\n",
      "Filtered FULL dataframe will be exported as csv as    ->  ./data/transactions_ddup_2019-09-22_nart_5_ncust_20.csv\n",
      "Filtered reduced dataframe will be exported as csv as ->  ./data/transactions_ddup_2019-09-22_nart_5_ncust_20_ncustr_10000.csv\n",
      "Done!\n"
     ]
    }
   ],
   "source": [
    "#ini_data= \"2019-09-22\"\n",
    "#min_trans_per_article=1000\n",
    "#min_trans_per_customer=20\n",
    "\n",
    "print (\"Filter values:\")\n",
    "print (\"Initial data -> \", ini_data)\n",
    "print (\"Minimum transactions per article -> \", min_trans_per_article)\n",
    "print (\"Minimum transactions per customer -> \", min_trans_per_customer)\n",
    "print (\"Customer reduction to customer -> \", tot_cust)\n",
    "print (\"Filtered FULL dataframe will be exported as csv as    -> \", file_name)\n",
    "transactions_ddup_datef_artif_custf.to_csv(file_name)\n",
    "print (\"Filtered reduced dataframe will be exported as csv as -> \", file_name_red)\n",
    "transactions_ddup_datef_artif_custf_custr.to_csv(file_name_red)\n",
    "print (\"Done!\")\n"
   ]
  },
  {
   "cell_type": "code",
   "execution_count": null,
   "id": "aa58d25e",
   "metadata": {},
   "outputs": [],
   "source": []
  },
  {
   "cell_type": "code",
   "execution_count": null,
   "id": "ce00fbc4",
   "metadata": {},
   "outputs": [],
   "source": [
    "# debuf final verification for customers\n",
    "#transactions_ddup_datef_artif_custf.customer_id.value_counts()"
   ]
  },
  {
   "cell_type": "code",
   "execution_count": null,
   "id": "4dca7cb3",
   "metadata": {},
   "outputs": [],
   "source": [
    "# debuf final verification for article\n",
    "#transactions_ddup_datef_artif_custf.article_id.value_counts()"
   ]
  },
  {
   "cell_type": "code",
   "execution_count": null,
   "id": "ce95dc6d",
   "metadata": {},
   "outputs": [],
   "source": []
  }
 ],
 "metadata": {
  "kernelspec": {
   "display_name": "jupyter_geo",
   "language": "python",
   "name": "jupyter_geo"
  },
  "language_info": {
   "codemirror_mode": {
    "name": "ipython",
    "version": 3
   },
   "file_extension": ".py",
   "mimetype": "text/x-python",
   "name": "python",
   "nbconvert_exporter": "python",
   "pygments_lexer": "ipython3",
   "version": "3.8.13"
  }
 },
 "nbformat": 4,
 "nbformat_minor": 5
}
